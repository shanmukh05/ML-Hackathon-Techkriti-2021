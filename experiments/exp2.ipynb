{
 "cells": [
  {
   "cell_type": "code",
   "execution_count": 1,
   "metadata": {
    "_cell_guid": "b1076dfc-b9ad-4769-8c92-a6c4dae69d19",
    "_uuid": "8f2839f25d086af736a60e9eeb907d3b93b6e0e5",
    "execution": {
     "iopub.execute_input": "2021-03-13T19:02:48.319028Z",
     "iopub.status.busy": "2021-03-13T19:02:48.318366Z",
     "iopub.status.idle": "2021-03-13T19:02:53.185319Z",
     "shell.execute_reply": "2021-03-13T19:02:53.184565Z"
    },
    "papermill": {
     "duration": 4.878612,
     "end_time": "2021-03-13T19:02:53.185564",
     "exception": false,
     "start_time": "2021-03-13T19:02:48.306952",
     "status": "completed"
    },
    "tags": []
   },
   "outputs": [],
   "source": [
    "import os\n",
    "import numpy as np\n",
    "import pandas as pd\n",
    "import matplotlib.pyplot as plt\n",
    "import tensorflow as tf\n",
    "import PIL\n",
    "import random\n",
    "from tensorflow.keras.layers import *"
   ]
  },
  {
   "cell_type": "code",
   "execution_count": 2,
   "metadata": {
    "execution": {
     "iopub.execute_input": "2021-03-13T19:02:53.210257Z",
     "iopub.status.busy": "2021-03-13T19:02:53.208549Z",
     "iopub.status.idle": "2021-03-13T19:02:53.210934Z",
     "shell.execute_reply": "2021-03-13T19:02:53.211547Z"
    },
    "papermill": {
     "duration": 0.016801,
     "end_time": "2021-03-13T19:02:53.211716",
     "exception": false,
     "start_time": "2021-03-13T19:02:53.194915",
     "status": "completed"
    },
    "tags": []
   },
   "outputs": [],
   "source": [
    "TRAIN_PATH = \"../input/ml-hackathon/seg_train/seg_train\"\n",
    "VAL_PATH = \"../input/ml-hackathon/seg_test/seg_test\"\n",
    "TEST_PATH = \"../input/ml-hackathon/seg_pred\"\n",
    "BATCH_SIZE = 32\n",
    "HEIGHT,WIDTH = 150,150\n",
    "NUM_CLASSES = 6"
   ]
  },
  {
   "cell_type": "code",
   "execution_count": 3,
   "metadata": {
    "execution": {
     "iopub.execute_input": "2021-03-13T19:02:53.238834Z",
     "iopub.status.busy": "2021-03-13T19:02:53.238092Z",
     "iopub.status.idle": "2021-03-13T19:03:02.809134Z",
     "shell.execute_reply": "2021-03-13T19:03:02.809528Z"
    },
    "papermill": {
     "duration": 9.589214,
     "end_time": "2021-03-13T19:03:02.809680",
     "exception": false,
     "start_time": "2021-03-13T19:02:53.220466",
     "status": "completed"
    },
    "tags": []
   },
   "outputs": [
    {
     "name": "stdout",
     "output_type": "stream",
     "text": [
      "Found 14034 images belonging to 6 classes.\n",
      "Found 3000 images belonging to 6 classes.\n",
      "Found 7301 images belonging to 1 classes.\n"
     ]
    }
   ],
   "source": [
    "train_datagen = tf.keras.preprocessing.image.ImageDataGenerator(\n",
    "    rescale=1./255,\n",
    "    rotation_range=40,\n",
    "    horizontal_flip=True,\n",
    "    width_shift_range=0.2,\n",
    "    height_shift_range=0.2,\n",
    "    shear_range = 0.2, \n",
    "    zoom_range = 0.2\n",
    "   )\n",
    "\n",
    "train_ds = train_datagen.flow_from_directory(\n",
    "    TRAIN_PATH,\n",
    "    target_size = (HEIGHT,WIDTH),\n",
    "    batch_size = BATCH_SIZE,\n",
    "    class_mode = \"categorical\",\n",
    "    shuffle = True\n",
    ")\n",
    "\n",
    "\n",
    "val_datagen = tf.keras.preprocessing.image.ImageDataGenerator(\n",
    "    rescale=1./255,\n",
    "   )\n",
    "\n",
    "val_ds = val_datagen.flow_from_directory(\n",
    "    VAL_PATH,\n",
    "    target_size = (HEIGHT,WIDTH),\n",
    "    batch_size = BATCH_SIZE,\n",
    "    class_mode = \"categorical\",\n",
    "    shuffle = False\n",
    ")\n",
    "\n",
    "\n",
    "test_datagen = tf.keras.preprocessing.image.ImageDataGenerator(\n",
    "    rescale=1./255)\n",
    "test_ds = test_datagen.flow_from_directory(\n",
    "    TEST_PATH,\n",
    "    target_size = (HEIGHT,WIDTH),\n",
    "    shuffle = False\n",
    ")"
   ]
  },
  {
   "cell_type": "code",
   "execution_count": 4,
   "metadata": {
    "execution": {
     "iopub.execute_input": "2021-03-13T19:03:02.832364Z",
     "iopub.status.busy": "2021-03-13T19:03:02.830569Z",
     "iopub.status.idle": "2021-03-13T19:03:02.833000Z",
     "shell.execute_reply": "2021-03-13T19:03:02.833394Z"
    },
    "papermill": {
     "duration": 0.016657,
     "end_time": "2021-03-13T19:03:02.833528",
     "exception": false,
     "start_time": "2021-03-13T19:03:02.816871",
     "status": "completed"
    },
    "tags": []
   },
   "outputs": [],
   "source": [
    "def create_model():\n",
    "    pretrained = tf.keras.applications.EfficientNetB7(include_top=False,\n",
    "                                                      weights='imagenet',\n",
    "                                                      pooling=\"avg\",\n",
    "                                                      input_shape=[HEIGHT,WIDTH, 3])\n",
    "    \n",
    "    x = pretrained.output\n",
    "    x = tf.keras.layers.Dense(512,activation = \"relu\")(x)\n",
    "    x = tf.keras.layers.Dropout(0.2)(x)\n",
    "    outputs = tf.keras.layers.Dense(NUM_CLASSES,activation=\"softmax\", dtype='float32')(x)\n",
    "        \n",
    "    model = tf.keras.Model(pretrained.input, outputs)\n",
    "    return model"
   ]
  },
  {
   "cell_type": "code",
   "execution_count": 5,
   "metadata": {
    "execution": {
     "iopub.execute_input": "2021-03-13T19:03:02.851136Z",
     "iopub.status.busy": "2021-03-13T19:03:02.850578Z",
     "iopub.status.idle": "2021-03-13T19:03:02.854330Z",
     "shell.execute_reply": "2021-03-13T19:03:02.853922Z"
    },
    "papermill": {
     "duration": 0.014463,
     "end_time": "2021-03-13T19:03:02.854435",
     "exception": false,
     "start_time": "2021-03-13T19:03:02.839972",
     "status": "completed"
    },
    "tags": []
   },
   "outputs": [],
   "source": [
    "def compile_model(model, lr=0.0001):\n",
    "    \n",
    "    optimizer = tf.keras.optimizers.Adam(lr=lr)\n",
    "    \n",
    "    loss = tf.keras.losses.CategoricalCrossentropy()\n",
    "        \n",
    "    metrics = [\n",
    "       tf.keras.metrics.CategoricalAccuracy(name='categorical_accuracy')\n",
    "    ]\n",
    "\n",
    "    model.compile(optimizer=optimizer, loss=loss, metrics=metrics)\n",
    "\n",
    "    return model"
   ]
  },
  {
   "cell_type": "code",
   "execution_count": 6,
   "metadata": {
    "execution": {
     "iopub.execute_input": "2021-03-13T19:03:02.875161Z",
     "iopub.status.busy": "2021-03-13T19:03:02.873592Z",
     "iopub.status.idle": "2021-03-13T19:03:02.875859Z",
     "shell.execute_reply": "2021-03-13T19:03:02.876269Z"
    },
    "papermill": {
     "duration": 0.015009,
     "end_time": "2021-03-13T19:03:02.876385",
     "exception": false,
     "start_time": "2021-03-13T19:03:02.861376",
     "status": "completed"
    },
    "tags": []
   },
   "outputs": [],
   "source": [
    "def create_callbacks():\n",
    "    \n",
    "    cpk_path = './best_model.h5'\n",
    "    \n",
    "    checkpoint = tf.keras.callbacks.ModelCheckpoint(\n",
    "        filepath=cpk_path,\n",
    "        monitor='val_categorical_accuracy',\n",
    "        mode='max',\n",
    "        save_best_only=True,\n",
    "        verbose=1,\n",
    "    )\n",
    "\n",
    "    reducelr = tf.keras.callbacks.ReduceLROnPlateau(\n",
    "        monitor='val_categorical_accuracy',\n",
    "        mode='max',\n",
    "        factor=0.1,\n",
    "        patience=3,\n",
    "        verbose=0\n",
    "    )\n",
    "\n",
    "    earlystop = tf.keras.callbacks.EarlyStopping(\n",
    "        monitor='val_categorical_accuracy',\n",
    "        mode='max',\n",
    "        patience=10, \n",
    "        verbose=1\n",
    "    )\n",
    "    \n",
    "    callbacks = [checkpoint, reducelr, earlystop]         \n",
    "    \n",
    "    return callbacks"
   ]
  },
  {
   "cell_type": "code",
   "execution_count": 7,
   "metadata": {
    "execution": {
     "iopub.execute_input": "2021-03-13T19:03:02.894419Z",
     "iopub.status.busy": "2021-03-13T19:03:02.893928Z",
     "iopub.status.idle": "2021-03-13T21:13:43.011997Z",
     "shell.execute_reply": "2021-03-13T21:13:43.012411Z"
    },
    "papermill": {
     "duration": 7840.129483,
     "end_time": "2021-03-13T21:13:43.012559",
     "exception": false,
     "start_time": "2021-03-13T19:03:02.883076",
     "status": "completed"
    },
    "tags": []
   },
   "outputs": [
    {
     "name": "stdout",
     "output_type": "stream",
     "text": [
      "Downloading data from https://storage.googleapis.com/keras-applications/efficientnetb7_notop.h5\n",
      "258080768/258076736 [==============================] - 1s 0us/step\n",
      "Epoch 1/30\n",
      "439/439 [==============================] - 313s 641ms/step - loss: 0.7888 - categorical_accuracy: 0.7196 - val_loss: 0.7453 - val_categorical_accuracy: 0.7383\n",
      "\n",
      "Epoch 00001: val_categorical_accuracy improved from -inf to 0.73833, saving model to ./best_model.h5\n",
      "Epoch 2/30\n",
      "439/439 [==============================] - 276s 629ms/step - loss: 0.3047 - categorical_accuracy: 0.8927 - val_loss: 0.3558 - val_categorical_accuracy: 0.8630\n",
      "\n",
      "Epoch 00002: val_categorical_accuracy improved from 0.73833 to 0.86300, saving model to ./best_model.h5\n",
      "Epoch 3/30\n",
      "439/439 [==============================] - 277s 630ms/step - loss: 0.2227 - categorical_accuracy: 0.9242 - val_loss: 0.3146 - val_categorical_accuracy: 0.8913\n",
      "\n",
      "Epoch 00003: val_categorical_accuracy improved from 0.86300 to 0.89133, saving model to ./best_model.h5\n",
      "Epoch 4/30\n",
      "439/439 [==============================] - 277s 631ms/step - loss: 0.1989 - categorical_accuracy: 0.9249 - val_loss: 0.4712 - val_categorical_accuracy: 0.8357\n",
      "\n",
      "Epoch 00004: val_categorical_accuracy did not improve from 0.89133\n",
      "Epoch 5/30\n",
      "439/439 [==============================] - 277s 630ms/step - loss: 0.1675 - categorical_accuracy: 0.9383 - val_loss: 1.2467 - val_categorical_accuracy: 0.6127\n",
      "\n",
      "Epoch 00005: val_categorical_accuracy did not improve from 0.89133\n",
      "Epoch 6/30\n",
      "439/439 [==============================] - 277s 630ms/step - loss: 0.1480 - categorical_accuracy: 0.9491 - val_loss: 0.2737 - val_categorical_accuracy: 0.9060\n",
      "\n",
      "Epoch 00006: val_categorical_accuracy improved from 0.89133 to 0.90600, saving model to ./best_model.h5\n",
      "Epoch 7/30\n",
      "439/439 [==============================] - 276s 629ms/step - loss: 0.1195 - categorical_accuracy: 0.9571 - val_loss: 0.8647 - val_categorical_accuracy: 0.7387\n",
      "\n",
      "Epoch 00007: val_categorical_accuracy did not improve from 0.90600\n",
      "Epoch 8/30\n",
      "439/439 [==============================] - 277s 630ms/step - loss: 0.1028 - categorical_accuracy: 0.9640 - val_loss: 0.2690 - val_categorical_accuracy: 0.9167\n",
      "\n",
      "Epoch 00008: val_categorical_accuracy improved from 0.90600 to 0.91667, saving model to ./best_model.h5\n",
      "Epoch 9/30\n",
      "439/439 [==============================] - 277s 631ms/step - loss: 0.0915 - categorical_accuracy: 0.9691 - val_loss: 1.6444 - val_categorical_accuracy: 0.5750\n",
      "\n",
      "Epoch 00009: val_categorical_accuracy did not improve from 0.91667\n",
      "Epoch 10/30\n",
      "439/439 [==============================] - 278s 632ms/step - loss: 0.0867 - categorical_accuracy: 0.9693 - val_loss: 0.3898 - val_categorical_accuracy: 0.8870\n",
      "\n",
      "Epoch 00010: val_categorical_accuracy did not improve from 0.91667\n",
      "Epoch 11/30\n",
      "439/439 [==============================] - 277s 630ms/step - loss: 0.0767 - categorical_accuracy: 0.9732 - val_loss: 0.3813 - val_categorical_accuracy: 0.8987\n",
      "\n",
      "Epoch 00011: val_categorical_accuracy did not improve from 0.91667\n",
      "Epoch 12/30\n",
      "439/439 [==============================] - 276s 628ms/step - loss: 0.0609 - categorical_accuracy: 0.9799 - val_loss: 0.2378 - val_categorical_accuracy: 0.9357\n",
      "\n",
      "Epoch 00012: val_categorical_accuracy improved from 0.91667 to 0.93567, saving model to ./best_model.h5\n",
      "Epoch 13/30\n",
      "439/439 [==============================] - 276s 629ms/step - loss: 0.0451 - categorical_accuracy: 0.9834 - val_loss: 0.2312 - val_categorical_accuracy: 0.9387\n",
      "\n",
      "Epoch 00013: val_categorical_accuracy improved from 0.93567 to 0.93867, saving model to ./best_model.h5\n",
      "Epoch 14/30\n",
      "439/439 [==============================] - 277s 630ms/step - loss: 0.0458 - categorical_accuracy: 0.9832 - val_loss: 0.2372 - val_categorical_accuracy: 0.9380\n",
      "\n",
      "Epoch 00014: val_categorical_accuracy did not improve from 0.93867\n",
      "Epoch 15/30\n",
      "439/439 [==============================] - 276s 629ms/step - loss: 0.0342 - categorical_accuracy: 0.9885 - val_loss: 0.2379 - val_categorical_accuracy: 0.9403\n",
      "\n",
      "Epoch 00015: val_categorical_accuracy improved from 0.93867 to 0.94033, saving model to ./best_model.h5\n",
      "Epoch 16/30\n",
      "439/439 [==============================] - 278s 632ms/step - loss: 0.0320 - categorical_accuracy: 0.9890 - val_loss: 0.2515 - val_categorical_accuracy: 0.9353\n",
      "\n",
      "Epoch 00016: val_categorical_accuracy did not improve from 0.94033\n",
      "Epoch 17/30\n",
      "439/439 [==============================] - 277s 630ms/step - loss: 0.0256 - categorical_accuracy: 0.9906 - val_loss: 0.2468 - val_categorical_accuracy: 0.9407\n",
      "\n",
      "Epoch 00017: val_categorical_accuracy improved from 0.94033 to 0.94067, saving model to ./best_model.h5\n",
      "Epoch 18/30\n",
      "439/439 [==============================] - 277s 630ms/step - loss: 0.0237 - categorical_accuracy: 0.9921 - val_loss: 0.2481 - val_categorical_accuracy: 0.9410\n",
      "\n",
      "Epoch 00018: val_categorical_accuracy improved from 0.94067 to 0.94100, saving model to ./best_model.h5\n",
      "Epoch 19/30\n",
      "439/439 [==============================] - 277s 631ms/step - loss: 0.0202 - categorical_accuracy: 0.9941 - val_loss: 0.2531 - val_categorical_accuracy: 0.9400\n",
      "\n",
      "Epoch 00019: val_categorical_accuracy did not improve from 0.94100\n",
      "Epoch 20/30\n",
      "439/439 [==============================] - 277s 630ms/step - loss: 0.0215 - categorical_accuracy: 0.9929 - val_loss: 0.2575 - val_categorical_accuracy: 0.9360\n",
      "\n",
      "Epoch 00020: val_categorical_accuracy did not improve from 0.94100\n",
      "Epoch 21/30\n",
      "439/439 [==============================] - 278s 632ms/step - loss: 0.0206 - categorical_accuracy: 0.9927 - val_loss: 0.2671 - val_categorical_accuracy: 0.9393\n",
      "\n",
      "Epoch 00021: val_categorical_accuracy did not improve from 0.94100\n",
      "Epoch 22/30\n",
      "439/439 [==============================] - 277s 631ms/step - loss: 0.0218 - categorical_accuracy: 0.9928 - val_loss: 0.2637 - val_categorical_accuracy: 0.9393\n",
      "\n",
      "Epoch 00022: val_categorical_accuracy did not improve from 0.94100\n",
      "Epoch 23/30\n",
      "439/439 [==============================] - 278s 632ms/step - loss: 0.0200 - categorical_accuracy: 0.9934 - val_loss: 0.2624 - val_categorical_accuracy: 0.9383\n",
      "\n",
      "Epoch 00023: val_categorical_accuracy did not improve from 0.94100\n",
      "Epoch 24/30\n",
      "439/439 [==============================] - 277s 631ms/step - loss: 0.0197 - categorical_accuracy: 0.9929 - val_loss: 0.2621 - val_categorical_accuracy: 0.9407\n",
      "\n",
      "Epoch 00024: val_categorical_accuracy did not improve from 0.94100\n",
      "Epoch 25/30\n",
      "439/439 [==============================] - 277s 631ms/step - loss: 0.0176 - categorical_accuracy: 0.9939 - val_loss: 0.2622 - val_categorical_accuracy: 0.9393\n",
      "\n",
      "Epoch 00025: val_categorical_accuracy did not improve from 0.94100\n",
      "Epoch 26/30\n",
      "439/439 [==============================] - 278s 633ms/step - loss: 0.0200 - categorical_accuracy: 0.9933 - val_loss: 0.2632 - val_categorical_accuracy: 0.9403\n",
      "\n",
      "Epoch 00026: val_categorical_accuracy did not improve from 0.94100\n",
      "Epoch 27/30\n",
      "439/439 [==============================] - 278s 633ms/step - loss: 0.0162 - categorical_accuracy: 0.9948 - val_loss: 0.2628 - val_categorical_accuracy: 0.9393\n",
      "\n",
      "Epoch 00027: val_categorical_accuracy did not improve from 0.94100\n",
      "Epoch 28/30\n",
      "439/439 [==============================] - 277s 631ms/step - loss: 0.0202 - categorical_accuracy: 0.9930 - val_loss: 0.2619 - val_categorical_accuracy: 0.9397\n",
      "\n",
      "Epoch 00028: val_categorical_accuracy did not improve from 0.94100\n",
      "Epoch 00028: early stopping\n"
     ]
    }
   ],
   "source": [
    "EPOCHS= 30\n",
    "VERBOSE =1\n",
    "\n",
    "tf.keras.backend.clear_session()\n",
    "\n",
    "with tf.device('/device:GPU:0'):\n",
    "    \n",
    "    model = create_model()\n",
    "    model = compile_model(model, lr=0.0001)\n",
    "   \n",
    "    callbacks = create_callbacks()\n",
    "    \n",
    "    history = model.fit(train_ds, \n",
    "                        epochs=EPOCHS,\n",
    "                        callbacks=callbacks,\n",
    "                        validation_data = val_ds,\n",
    "                        verbose=VERBOSE)"
   ]
  },
  {
   "cell_type": "code",
   "execution_count": 8,
   "metadata": {
    "execution": {
     "iopub.execute_input": "2021-03-13T21:13:49.599414Z",
     "iopub.status.busy": "2021-03-13T21:13:49.598639Z",
     "iopub.status.idle": "2021-03-13T21:13:49.884474Z",
     "shell.execute_reply": "2021-03-13T21:13:49.884051Z"
    },
    "papermill": {
     "duration": 3.70162,
     "end_time": "2021-03-13T21:13:49.884600",
     "exception": false,
     "start_time": "2021-03-13T21:13:46.182980",
     "status": "completed"
    },
    "tags": []
   },
   "outputs": [
    {
     "data": {
      "image/png": "[encoded data removed]",
      "text/plain": [
       "<Figure size 576x576 with 2 Axes>"
      ]
     },
     "metadata": {
      "needs_background": "light"
     },
     "output_type": "display_data"
    }
   ],
   "source": [
    "acc = history.history['categorical_accuracy']\n",
    "val_acc = history.history['val_categorical_accuracy']\n",
    "loss = history.history['loss']\n",
    "val_loss = history.history['val_loss']\n",
    "epochs_range = range(len(history.history['val_loss']))\n",
    "plt.figure(figsize=(8, 8))\n",
    "plt.subplot(1, 2, 1)\n",
    "plt.plot(epochs_range, acc, label='Training Categorical Accuracy')\n",
    "plt.plot(epochs_range, val_acc, label='Validation Categorical Accuracy')\n",
    "plt.legend(loc='lower right')\n",
    "plt.title('Training and Validation Categorical Accuracy')\n",
    "plt.subplot(1, 2, 2)\n",
    "plt.plot(epochs_range, loss, label='Training Loss')\n",
    "plt.plot(epochs_range, val_loss, label='Validation Loss')\n",
    "plt.legend(loc='upper right')\n",
    "plt.title('Training and Validation Loss')\n",
    "plt.show()"
   ]
  },
  {
   "cell_type": "code",
   "execution_count": 9,
   "metadata": {
    "execution": {
     "iopub.execute_input": "2021-03-13T21:13:56.842726Z",
     "iopub.status.busy": "2021-03-13T21:13:56.837647Z",
     "iopub.status.idle": "2021-03-13T21:14:47.649274Z",
     "shell.execute_reply": "2021-03-13T21:14:47.648817Z"
    },
    "papermill": {
     "duration": 54.452396,
     "end_time": "2021-03-13T21:14:47.649407",
     "exception": false,
     "start_time": "2021-03-13T21:13:53.197011",
     "status": "completed"
    },
    "tags": []
   },
   "outputs": [
    {
     "ename": "KeyError",
     "evalue": "5",
     "output_type": "error",
     "traceback": [
      "\u001b[0;31m---------------------------------------------------------------------------\u001b[0m",
      "\u001b[0;31mKeyError\u001b[0m                                  Traceback (most recent call last)",
      "\u001b[0;32m<ipython-input-9-9b893523817e>\u001b[0m in \u001b[0;36m<module>\u001b[0;34m\u001b[0m\n\u001b[1;32m      2\u001b[0m \u001b[0mmodel\u001b[0m \u001b[0;34m=\u001b[0m \u001b[0mtf\u001b[0m\u001b[0;34m.\u001b[0m\u001b[0mkeras\u001b[0m\u001b[0;34m.\u001b[0m\u001b[0mmodels\u001b[0m\u001b[0;34m.\u001b[0m\u001b[0mload_model\u001b[0m\u001b[0;34m(\u001b[0m\u001b[0;34m\"./best_model.h5\"\u001b[0m\u001b[0;34m)\u001b[0m\u001b[0;34m\u001b[0m\u001b[0;34m\u001b[0m\u001b[0m\n\u001b[1;32m      3\u001b[0m \u001b[0mpred\u001b[0m \u001b[0;34m=\u001b[0m \u001b[0mmodel\u001b[0m\u001b[0;34m.\u001b[0m\u001b[0mpredict\u001b[0m\u001b[0;34m(\u001b[0m\u001b[0mtest_ds\u001b[0m\u001b[0;34m)\u001b[0m\u001b[0;34m\u001b[0m\u001b[0;34m\u001b[0m\u001b[0m\n\u001b[0;32m----> 4\u001b[0;31m \u001b[0mpredictions\u001b[0m \u001b[0;34m=\u001b[0m \u001b[0;34m[\u001b[0m\u001b[0mclasses_dict\u001b[0m\u001b[0;34m[\u001b[0m\u001b[0mnp\u001b[0m\u001b[0;34m.\u001b[0m\u001b[0margmax\u001b[0m\u001b[0;34m(\u001b[0m\u001b[0mi\u001b[0m\u001b[0;34m)\u001b[0m\u001b[0;34m]\u001b[0m \u001b[0;32mfor\u001b[0m \u001b[0mi\u001b[0m \u001b[0;32min\u001b[0m \u001b[0mpred\u001b[0m\u001b[0;34m]\u001b[0m\u001b[0;34m\u001b[0m\u001b[0;34m\u001b[0m\u001b[0m\n\u001b[0m\u001b[1;32m      5\u001b[0m \u001b[0;34m\u001b[0m\u001b[0m\n\u001b[1;32m      6\u001b[0m \u001b[0mpred_df\u001b[0m \u001b[0;34m=\u001b[0m \u001b[0mpd\u001b[0m\u001b[0;34m.\u001b[0m\u001b[0mDataFrame\u001b[0m\u001b[0;34m(\u001b[0m\u001b[0mpredictions\u001b[0m\u001b[0;34m,\u001b[0m \u001b[0mcolumns\u001b[0m\u001b[0;34m=\u001b[0m\u001b[0;34m[\u001b[0m\u001b[0;34m'predictions'\u001b[0m\u001b[0;34m]\u001b[0m\u001b[0;34m)\u001b[0m\u001b[0;34m\u001b[0m\u001b[0;34m\u001b[0m\u001b[0m\n",
      "\u001b[0;32m<ipython-input-9-9b893523817e>\u001b[0m in \u001b[0;36m<listcomp>\u001b[0;34m(.0)\u001b[0m\n\u001b[1;32m      2\u001b[0m \u001b[0mmodel\u001b[0m \u001b[0;34m=\u001b[0m \u001b[0mtf\u001b[0m\u001b[0;34m.\u001b[0m\u001b[0mkeras\u001b[0m\u001b[0;34m.\u001b[0m\u001b[0mmodels\u001b[0m\u001b[0;34m.\u001b[0m\u001b[0mload_model\u001b[0m\u001b[0;34m(\u001b[0m\u001b[0;34m\"./best_model.h5\"\u001b[0m\u001b[0;34m)\u001b[0m\u001b[0;34m\u001b[0m\u001b[0;34m\u001b[0m\u001b[0m\n\u001b[1;32m      3\u001b[0m \u001b[0mpred\u001b[0m \u001b[0;34m=\u001b[0m \u001b[0mmodel\u001b[0m\u001b[0;34m.\u001b[0m\u001b[0mpredict\u001b[0m\u001b[0;34m(\u001b[0m\u001b[0mtest_ds\u001b[0m\u001b[0;34m)\u001b[0m\u001b[0;34m\u001b[0m\u001b[0;34m\u001b[0m\u001b[0m\n\u001b[0;32m----> 4\u001b[0;31m \u001b[0mpredictions\u001b[0m \u001b[0;34m=\u001b[0m \u001b[0;34m[\u001b[0m\u001b[0mclasses_dict\u001b[0m\u001b[0;34m[\u001b[0m\u001b[0mnp\u001b[0m\u001b[0;34m.\u001b[0m\u001b[0margmax\u001b[0m\u001b[0;34m(\u001b[0m\u001b[0mi\u001b[0m\u001b[0;34m)\u001b[0m\u001b[0;34m]\u001b[0m \u001b[0;32mfor\u001b[0m \u001b[0mi\u001b[0m \u001b[0;32min\u001b[0m \u001b[0mpred\u001b[0m\u001b[0;34m]\u001b[0m\u001b[0;34m\u001b[0m\u001b[0;34m\u001b[0m\u001b[0m\n\u001b[0m\u001b[1;32m      5\u001b[0m \u001b[0;34m\u001b[0m\u001b[0m\n\u001b[1;32m      6\u001b[0m \u001b[0mpred_df\u001b[0m \u001b[0;34m=\u001b[0m \u001b[0mpd\u001b[0m\u001b[0;34m.\u001b[0m\u001b[0mDataFrame\u001b[0m\u001b[0;34m(\u001b[0m\u001b[0mpredictions\u001b[0m\u001b[0;34m,\u001b[0m \u001b[0mcolumns\u001b[0m\u001b[0;34m=\u001b[0m\u001b[0;34m[\u001b[0m\u001b[0;34m'predictions'\u001b[0m\u001b[0;34m]\u001b[0m\u001b[0;34m)\u001b[0m\u001b[0;34m\u001b[0m\u001b[0;34m\u001b[0m\u001b[0m\n",
      "\u001b[0;31mKeyError\u001b[0m: 5"
     ]
    }
   ],
   "source": [
    "classes_dict = train_ds.class_indices\n",
    "model = tf.keras.models.load_model(\"./best_model.h5\")\n",
    "pred = model.predict(test_ds)\n",
    "predictions = [classes_dict[np.argmax(i)] for i in pred]\n",
    "\n",
    "pred_df = pd.DataFrame(predictions, columns=['predictions'])\n",
    "pred_df.to_csv('prediction.csv',index=False)"
   ]
  }
 ],
 "metadata": {
  "kernelspec": {
   "display_name": "Python 3",
   "language": "python",
   "name": "python3"
  },
  "language_info": {
   "codemirror_mode": {
    "name": "ipython",
    "version": 3
   },
   "file_extension": ".py",
   "mimetype": "text/x-python",
   "name": "python",
   "nbconvert_exporter": "python",
   "pygments_lexer": "ipython3",
   "version": "3.7.9"
  },
  "papermill": {
   "default_parameters": {},
   "duration": 7932.485519,
   "end_time": "2021-03-13T21:14:55.902813",
   "environment_variables": {},
   "exception": null,
   "input_path": "__notebook__.ipynb",
   "output_path": "__notebook__.ipynb",
   "parameters": {},
   "start_time": "2021-03-13T19:02:43.417294",
   "version": "2.2.2"
  }
 },
 "nbformat": 4,
 "nbformat_minor": 4
}
