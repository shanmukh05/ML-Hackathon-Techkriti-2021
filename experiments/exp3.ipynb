{
 "cells": [
  {
   "cell_type": "code",
   "execution_count": 1,
   "metadata": {
    "_cell_guid": "b1076dfc-b9ad-4769-8c92-a6c4dae69d19",
    "_uuid": "8f2839f25d086af736a60e9eeb907d3b93b6e0e5",
    "execution": {
     "iopub.execute_input": "2021-03-13T17:11:56.558407Z",
     "iopub.status.busy": "2021-03-13T17:11:56.557796Z",
     "iopub.status.idle": "2021-03-13T17:12:01.405630Z",
     "shell.execute_reply": "2021-03-13T17:12:01.404459Z"
    },
    "papermill": {
     "duration": 4.858999,
     "end_time": "2021-03-13T17:12:01.405856",
     "exception": false,
     "start_time": "2021-03-13T17:11:56.546857",
     "status": "completed"
    },
    "tags": []
   },
   "outputs": [],
   "source": [
    "import os\n",
    "import numpy as np\n",
    "import pandas as pd\n",
    "import matplotlib.pyplot as plt\n",
    "import tensorflow as tf\n",
    "import PIL\n",
    "import random\n",
    "from tensorflow.keras.layers import *"
   ]
  },
  {
   "cell_type": "code",
   "execution_count": 2,
   "metadata": {
    "execution": {
     "iopub.execute_input": "2021-03-13T17:12:01.423267Z",
     "iopub.status.busy": "2021-03-13T17:12:01.421490Z",
     "iopub.status.idle": "2021-03-13T17:12:01.423967Z",
     "shell.execute_reply": "2021-03-13T17:12:01.424387Z"
    },
    "papermill": {
     "duration": 0.012532,
     "end_time": "2021-03-13T17:12:01.424514",
     "exception": false,
     "start_time": "2021-03-13T17:12:01.411982",
     "status": "completed"
    },
    "tags": []
   },
   "outputs": [],
   "source": [
    "TRAIN_PATH = \"../input/ml-hackathon/seg_train/seg_train\"\n",
    "VAL_PATH = \"../input/ml-hackathon/seg_test/seg_test\"\n",
    "TEST_PATH = \"../input/ml-hackathon/seg_pred\"\n",
    "BATCH_SIZE = 32\n",
    "HEIGHT,WIDTH = 150,150\n",
    "NUM_CLASSES = 6"
   ]
  },
  {
   "cell_type": "code",
   "execution_count": 3,
   "metadata": {
    "execution": {
     "iopub.execute_input": "2021-03-13T17:12:01.441915Z",
     "iopub.status.busy": "2021-03-13T17:12:01.441411Z",
     "iopub.status.idle": "2021-03-13T17:12:12.254179Z",
     "shell.execute_reply": "2021-03-13T17:12:12.254601Z"
    },
    "papermill": {
     "duration": 10.824785,
     "end_time": "2021-03-13T17:12:12.254758",
     "exception": false,
     "start_time": "2021-03-13T17:12:01.429973",
     "status": "completed"
    },
    "tags": []
   },
   "outputs": [
    {
     "name": "stdout",
     "output_type": "stream",
     "text": [
      "Found 14034 images belonging to 6 classes.\n",
      "Found 3000 images belonging to 6 classes.\n",
      "Found 7301 images belonging to 1 classes.\n"
     ]
    }
   ],
   "source": [
    "train_datagen = tf.keras.preprocessing.image.ImageDataGenerator(\n",
    "    rescale=1./255,\n",
    "    rotation_range=40,\n",
    "    horizontal_flip=True,\n",
    "    width_shift_range=0.2,\n",
    "    height_shift_range=0.2,\n",
    "    shear_range = 0.2, \n",
    "    zoom_range = 0.2\n",
    "   )\n",
    "\n",
    "train_ds = train_datagen.flow_from_directory(\n",
    "    TRAIN_PATH,\n",
    "    target_size = (HEIGHT,WIDTH),\n",
    "    batch_size = BATCH_SIZE,\n",
    "    class_mode = \"categorical\",\n",
    "    shuffle = True\n",
    ")\n",
    "\n",
    "\n",
    "val_datagen = tf.keras.preprocessing.image.ImageDataGenerator(\n",
    "    rescale=1./255,\n",
    "   )\n",
    "\n",
    "val_ds = val_datagen.flow_from_directory(\n",
    "    VAL_PATH,\n",
    "    target_size = (HEIGHT,WIDTH),\n",
    "    batch_size = BATCH_SIZE,\n",
    "    class_mode = \"categorical\",\n",
    "    shuffle = False\n",
    ")\n",
    "\n",
    "\n",
    "test_datagen = tf.keras.preprocessing.image.ImageDataGenerator(\n",
    "    rescale=1./255)\n",
    "test_ds = test_datagen.flow_from_directory(\n",
    "    TEST_PATH,\n",
    "    target_size = (HEIGHT,WIDTH),\n",
    "    shuffle = False\n",
    ")"
   ]
  },
  {
   "cell_type": "code",
   "execution_count": 4,
   "metadata": {
    "execution": {
     "iopub.execute_input": "2021-03-13T17:12:12.274463Z",
     "iopub.status.busy": "2021-03-13T17:12:12.273919Z",
     "iopub.status.idle": "2021-03-13T17:12:12.277533Z",
     "shell.execute_reply": "2021-03-13T17:12:12.277101Z"
    },
    "papermill": {
     "duration": 0.015748,
     "end_time": "2021-03-13T17:12:12.277643",
     "exception": false,
     "start_time": "2021-03-13T17:12:12.261895",
     "status": "completed"
    },
    "tags": []
   },
   "outputs": [],
   "source": [
    "def create_model():\n",
    "    pretrained = tf.keras.applications.EfficientNetB7(include_top=False,\n",
    "                                                      weights='imagenet',\n",
    "                                                      pooling=\"avg\",\n",
    "                                                      input_shape=[HEIGHT,WIDTH, 3])\n",
    "    \n",
    "    x = pretrained.output\n",
    "    x = tf.keras.layers.Dropout(0.3) (x)\n",
    "    x = tf.keras.layers.Dense(128) (x)\n",
    "    x = tf.keras.layers.LeakyReLU(alpha=0.2) (x)\n",
    "    x = tf.keras.layers.GaussianDropout(0.4) (x)\n",
    "    outputs = tf.keras.layers.Dense(NUM_CLASSES,activation=\"softmax\", dtype='float32')(x)\n",
    "        \n",
    "    model = tf.keras.Model(pretrained.input, outputs)\n",
    "    return model"
   ]
  },
  {
   "cell_type": "code",
   "execution_count": 5,
   "metadata": {
    "execution": {
     "iopub.execute_input": "2021-03-13T17:12:12.296355Z",
     "iopub.status.busy": "2021-03-13T17:12:12.295536Z",
     "iopub.status.idle": "2021-03-13T17:12:12.298012Z",
     "shell.execute_reply": "2021-03-13T17:12:12.297599Z"
    },
    "papermill": {
     "duration": 0.013681,
     "end_time": "2021-03-13T17:12:12.298110",
     "exception": false,
     "start_time": "2021-03-13T17:12:12.284429",
     "status": "completed"
    },
    "tags": []
   },
   "outputs": [],
   "source": [
    "def compile_model(model, lr=0.0001):\n",
    "    \n",
    "    optimizer = tf.keras.optimizers.Adam(lr=lr)\n",
    "    \n",
    "    loss = tf.keras.losses.CategoricalCrossentropy()\n",
    "        \n",
    "    metrics = [\n",
    "       tf.keras.metrics.CategoricalAccuracy(name='categorical_accuracy')\n",
    "    ]\n",
    "\n",
    "    model.compile(optimizer=optimizer, loss=loss, metrics=metrics)\n",
    "\n",
    "    return model"
   ]
  },
  {
   "cell_type": "code",
   "execution_count": 6,
   "metadata": {
    "execution": {
     "iopub.execute_input": "2021-03-13T17:12:12.316820Z",
     "iopub.status.busy": "2021-03-13T17:12:12.316139Z",
     "iopub.status.idle": "2021-03-13T17:12:12.318870Z",
     "shell.execute_reply": "2021-03-13T17:12:12.318474Z"
    },
    "papermill": {
     "duration": 0.014325,
     "end_time": "2021-03-13T17:12:12.318973",
     "exception": false,
     "start_time": "2021-03-13T17:12:12.304648",
     "status": "completed"
    },
    "tags": []
   },
   "outputs": [],
   "source": [
    "def create_callbacks():\n",
    "    \n",
    "    cpk_path = './best_model.h5'\n",
    "    \n",
    "    checkpoint = tf.keras.callbacks.ModelCheckpoint(\n",
    "        filepath=cpk_path,\n",
    "        monitor='val_categorical_accuracy',\n",
    "        mode='max',\n",
    "        save_best_only=True,\n",
    "        verbose=1,\n",
    "    )\n",
    "\n",
    "    reducelr = tf.keras.callbacks.ReduceLROnPlateau(\n",
    "        monitor='val_categorical_accuracy',\n",
    "        mode='max',\n",
    "        factor=0.1,\n",
    "        patience=3,\n",
    "        verbose=0\n",
    "    )\n",
    "\n",
    "    earlystop = tf.keras.callbacks.EarlyStopping(\n",
    "        monitor='val_categorical_accuracy',\n",
    "        mode='max',\n",
    "        patience=10, \n",
    "        verbose=1\n",
    "    )\n",
    "    \n",
    "    callbacks = [checkpoint, reducelr, earlystop]         \n",
    "    \n",
    "    return callbacks"
   ]
  },
  {
   "cell_type": "code",
   "execution_count": 7,
   "metadata": {
    "execution": {
     "iopub.execute_input": "2021-03-13T17:12:12.336766Z",
     "iopub.status.busy": "2021-03-13T17:12:12.336222Z",
     "iopub.status.idle": "2021-03-13T18:50:09.389014Z",
     "shell.execute_reply": "2021-03-13T18:50:09.388587Z"
    },
    "papermill": {
     "duration": 5877.063546,
     "end_time": "2021-03-13T18:50:09.389142",
     "exception": false,
     "start_time": "2021-03-13T17:12:12.325596",
     "status": "completed"
    },
    "tags": []
   },
   "outputs": [
    {
     "name": "stdout",
     "output_type": "stream",
     "text": [
      "Downloading data from https://storage.googleapis.com/keras-applications/efficientnetb7_notop.h5\n",
      "258080768/258076736 [==============================] - 6s 0us/step\n",
      "Epoch 1/30\n",
      "439/439 [==============================] - 314s 645ms/step - loss: 0.9184 - categorical_accuracy: 0.6563 - val_loss: 1.3857 - val_categorical_accuracy: 0.4457\n",
      "\n",
      "Epoch 00001: val_categorical_accuracy improved from -inf to 0.44567, saving model to ./best_model.h5\n",
      "Epoch 2/30\n",
      "439/439 [==============================] - 276s 628ms/step - loss: 0.3511 - categorical_accuracy: 0.8782 - val_loss: 0.4897 - val_categorical_accuracy: 0.8093\n",
      "\n",
      "Epoch 00002: val_categorical_accuracy improved from 0.44567 to 0.80933, saving model to ./best_model.h5\n",
      "Epoch 3/30\n",
      "439/439 [==============================] - 276s 627ms/step - loss: 0.2504 - categorical_accuracy: 0.9114 - val_loss: 0.2534 - val_categorical_accuracy: 0.9120\n",
      "\n",
      "Epoch 00003: val_categorical_accuracy improved from 0.80933 to 0.91200, saving model to ./best_model.h5\n",
      "Epoch 4/30\n",
      "439/439 [==============================] - 275s 625ms/step - loss: 0.2286 - categorical_accuracy: 0.9228 - val_loss: 0.2585 - val_categorical_accuracy: 0.9073\n",
      "\n",
      "Epoch 00004: val_categorical_accuracy did not improve from 0.91200\n",
      "Epoch 5/30\n",
      "439/439 [==============================] - 276s 629ms/step - loss: 0.1846 - categorical_accuracy: 0.9352 - val_loss: 0.3823 - val_categorical_accuracy: 0.8503\n",
      "\n",
      "Epoch 00005: val_categorical_accuracy did not improve from 0.91200\n",
      "Epoch 6/30\n",
      "439/439 [==============================] - 274s 625ms/step - loss: 0.1480 - categorical_accuracy: 0.9474 - val_loss: 0.8749 - val_categorical_accuracy: 0.7493\n",
      "\n",
      "Epoch 00006: val_categorical_accuracy did not improve from 0.91200\n",
      "Epoch 7/30\n",
      "439/439 [==============================] - 276s 628ms/step - loss: 0.1303 - categorical_accuracy: 0.9549 - val_loss: 0.1793 - val_categorical_accuracy: 0.9400\n",
      "\n",
      "Epoch 00007: val_categorical_accuracy improved from 0.91200 to 0.94000, saving model to ./best_model.h5\n",
      "Epoch 8/30\n",
      "439/439 [==============================] - 275s 627ms/step - loss: 0.1167 - categorical_accuracy: 0.9579 - val_loss: 0.1809 - val_categorical_accuracy: 0.9403\n",
      "\n",
      "Epoch 00008: val_categorical_accuracy improved from 0.94000 to 0.94033, saving model to ./best_model.h5\n",
      "Epoch 9/30\n",
      "439/439 [==============================] - 276s 628ms/step - loss: 0.1107 - categorical_accuracy: 0.9622 - val_loss: 0.1764 - val_categorical_accuracy: 0.9403\n",
      "\n",
      "Epoch 00009: val_categorical_accuracy did not improve from 0.94033\n",
      "Epoch 10/30\n",
      "439/439 [==============================] - 276s 629ms/step - loss: 0.0993 - categorical_accuracy: 0.9665 - val_loss: 0.1841 - val_categorical_accuracy: 0.9407\n",
      "\n",
      "Epoch 00010: val_categorical_accuracy improved from 0.94033 to 0.94067, saving model to ./best_model.h5\n",
      "Epoch 11/30\n",
      "439/439 [==============================] - 276s 629ms/step - loss: 0.0836 - categorical_accuracy: 0.9721 - val_loss: 0.1865 - val_categorical_accuracy: 0.9417\n",
      "\n",
      "Epoch 00011: val_categorical_accuracy improved from 0.94067 to 0.94167, saving model to ./best_model.h5\n",
      "Epoch 12/30\n",
      "439/439 [==============================] - 277s 630ms/step - loss: 0.0789 - categorical_accuracy: 0.9744 - val_loss: 0.1986 - val_categorical_accuracy: 0.9390\n",
      "\n",
      "Epoch 00012: val_categorical_accuracy did not improve from 0.94167\n",
      "Epoch 13/30\n",
      "439/439 [==============================] - 276s 629ms/step - loss: 0.0735 - categorical_accuracy: 0.9739 - val_loss: 0.1924 - val_categorical_accuracy: 0.9413\n",
      "\n",
      "Epoch 00013: val_categorical_accuracy did not improve from 0.94167\n",
      "Epoch 14/30\n",
      "439/439 [==============================] - 277s 629ms/step - loss: 0.0695 - categorical_accuracy: 0.9741 - val_loss: 0.1933 - val_categorical_accuracy: 0.9397\n",
      "\n",
      "Epoch 00014: val_categorical_accuracy did not improve from 0.94167\n",
      "Epoch 15/30\n",
      "439/439 [==============================] - 276s 629ms/step - loss: 0.0655 - categorical_accuracy: 0.9762 - val_loss: 0.1951 - val_categorical_accuracy: 0.9407\n",
      "\n",
      "Epoch 00015: val_categorical_accuracy did not improve from 0.94167\n",
      "Epoch 16/30\n",
      "439/439 [==============================] - 276s 628ms/step - loss: 0.0697 - categorical_accuracy: 0.9755 - val_loss: 0.1940 - val_categorical_accuracy: 0.9393\n",
      "\n",
      "Epoch 00016: val_categorical_accuracy did not improve from 0.94167\n",
      "Epoch 17/30\n",
      "439/439 [==============================] - 277s 631ms/step - loss: 0.0600 - categorical_accuracy: 0.9776 - val_loss: 0.1959 - val_categorical_accuracy: 0.9407\n",
      "\n",
      "Epoch 00017: val_categorical_accuracy did not improve from 0.94167\n",
      "Epoch 18/30\n",
      "439/439 [==============================] - 277s 630ms/step - loss: 0.0636 - categorical_accuracy: 0.9777 - val_loss: 0.1955 - val_categorical_accuracy: 0.9413\n",
      "\n",
      "Epoch 00018: val_categorical_accuracy did not improve from 0.94167\n",
      "Epoch 19/30\n",
      "439/439 [==============================] - 277s 631ms/step - loss: 0.0655 - categorical_accuracy: 0.9763 - val_loss: 0.1958 - val_categorical_accuracy: 0.9413\n",
      "\n",
      "Epoch 00019: val_categorical_accuracy did not improve from 0.94167\n",
      "Epoch 20/30\n",
      "439/439 [==============================] - 277s 630ms/step - loss: 0.0715 - categorical_accuracy: 0.9736 - val_loss: 0.1960 - val_categorical_accuracy: 0.9413\n",
      "\n",
      "Epoch 00020: val_categorical_accuracy did not improve from 0.94167\n",
      "Epoch 21/30\n",
      "439/439 [==============================] - 277s 632ms/step - loss: 0.0697 - categorical_accuracy: 0.9744 - val_loss: 0.1969 - val_categorical_accuracy: 0.9407\n",
      "\n",
      "Epoch 00021: val_categorical_accuracy did not improve from 0.94167\n",
      "Epoch 00021: early stopping\n"
     ]
    }
   ],
   "source": [
    "EPOCHS= 30\n",
    "VERBOSE =1\n",
    "\n",
    "tf.keras.backend.clear_session()\n",
    "\n",
    "with tf.device('/device:GPU:0'):\n",
    "    \n",
    "    model = create_model()\n",
    "    model = compile_model(model, lr=0.0001)\n",
    "   \n",
    "    callbacks = create_callbacks()\n",
    "    \n",
    "    history = model.fit(train_ds, \n",
    "                        epochs=EPOCHS,\n",
    "                        callbacks=callbacks,\n",
    "                        validation_data = val_ds,\n",
    "                        verbose=VERBOSE)"
   ]
  },
  {
   "cell_type": "code",
   "execution_count": 8,
   "metadata": {
    "execution": {
     "iopub.execute_input": "2021-03-13T18:50:14.317264Z",
     "iopub.status.busy": "2021-03-13T18:50:14.316243Z",
     "iopub.status.idle": "2021-03-13T18:50:14.626187Z",
     "shell.execute_reply": "2021-03-13T18:50:14.626690Z"
    },
    "papermill": {
     "duration": 2.835304,
     "end_time": "2021-03-13T18:50:14.626850",
     "exception": false,
     "start_time": "2021-03-13T18:50:11.791546",
     "status": "completed"
    },
    "tags": []
   },
   "outputs": [
    {
     "data": {
      "image/png": "[encoded data removed]",
      "text/plain": [
       "<Figure size 576x576 with 2 Axes>"
      ]
     },
     "metadata": {
      "needs_background": "light"
     },
     "output_type": "display_data"
    }
   ],
   "source": [
    "acc = history.history['categorical_accuracy']\n",
    "val_acc = history.history['val_categorical_accuracy']\n",
    "loss = history.history['loss']\n",
    "val_loss = history.history['val_loss']\n",
    "epochs_range = range(len(history.history['val_loss']))\n",
    "plt.figure(figsize=(8, 8))\n",
    "plt.subplot(1, 2, 1)\n",
    "plt.plot(epochs_range, acc, label='Training Categorical Accuracy')\n",
    "plt.plot(epochs_range, val_acc, label='Validation Categorical Accuracy')\n",
    "plt.legend(loc='lower right')\n",
    "plt.title('Training and Validation Categorical Accuracy')\n",
    "plt.subplot(1, 2, 2)\n",
    "plt.plot(epochs_range, loss, label='Training Loss')\n",
    "plt.plot(epochs_range, val_loss, label='Validation Loss')\n",
    "plt.legend(loc='upper right')\n",
    "plt.title('Training and Validation Loss')\n",
    "plt.show()"
   ]
  },
  {
   "cell_type": "code",
   "execution_count": 9,
   "metadata": {
    "execution": {
     "iopub.execute_input": "2021-03-13T18:50:20.566373Z",
     "iopub.status.busy": "2021-03-13T18:50:20.554071Z",
     "iopub.status.idle": "2021-03-13T18:51:19.036824Z",
     "shell.execute_reply": "2021-03-13T18:51:19.037393Z"
    },
    "papermill": {
     "duration": 61.312762,
     "end_time": "2021-03-13T18:51:19.037565",
     "exception": false,
     "start_time": "2021-03-13T18:50:17.724803",
     "status": "completed"
    },
    "tags": []
   },
   "outputs": [
    {
     "ename": "KeyError",
     "evalue": "5",
     "output_type": "error",
     "traceback": [
      "\u001b[0;31m---------------------------------------------------------------------------\u001b[0m",
      "\u001b[0;31mKeyError\u001b[0m                                  Traceback (most recent call last)",
      "\u001b[0;32m<ipython-input-9-9b893523817e>\u001b[0m in \u001b[0;36m<module>\u001b[0;34m\u001b[0m\n\u001b[1;32m      2\u001b[0m \u001b[0mmodel\u001b[0m \u001b[0;34m=\u001b[0m \u001b[0mtf\u001b[0m\u001b[0;34m.\u001b[0m\u001b[0mkeras\u001b[0m\u001b[0;34m.\u001b[0m\u001b[0mmodels\u001b[0m\u001b[0;34m.\u001b[0m\u001b[0mload_model\u001b[0m\u001b[0;34m(\u001b[0m\u001b[0;34m\"./best_model.h5\"\u001b[0m\u001b[0;34m)\u001b[0m\u001b[0;34m\u001b[0m\u001b[0;34m\u001b[0m\u001b[0m\n\u001b[1;32m      3\u001b[0m \u001b[0mpred\u001b[0m \u001b[0;34m=\u001b[0m \u001b[0mmodel\u001b[0m\u001b[0;34m.\u001b[0m\u001b[0mpredict\u001b[0m\u001b[0;34m(\u001b[0m\u001b[0mtest_ds\u001b[0m\u001b[0;34m)\u001b[0m\u001b[0;34m\u001b[0m\u001b[0;34m\u001b[0m\u001b[0m\n\u001b[0;32m----> 4\u001b[0;31m \u001b[0mpredictions\u001b[0m \u001b[0;34m=\u001b[0m \u001b[0;34m[\u001b[0m\u001b[0mclasses_dict\u001b[0m\u001b[0;34m[\u001b[0m\u001b[0mnp\u001b[0m\u001b[0;34m.\u001b[0m\u001b[0margmax\u001b[0m\u001b[0;34m(\u001b[0m\u001b[0mi\u001b[0m\u001b[0;34m)\u001b[0m\u001b[0;34m]\u001b[0m \u001b[0;32mfor\u001b[0m \u001b[0mi\u001b[0m \u001b[0;32min\u001b[0m \u001b[0mpred\u001b[0m\u001b[0;34m]\u001b[0m\u001b[0;34m\u001b[0m\u001b[0;34m\u001b[0m\u001b[0m\n\u001b[0m\u001b[1;32m      5\u001b[0m \u001b[0;34m\u001b[0m\u001b[0m\n\u001b[1;32m      6\u001b[0m \u001b[0mpred_df\u001b[0m \u001b[0;34m=\u001b[0m \u001b[0mpd\u001b[0m\u001b[0;34m.\u001b[0m\u001b[0mDataFrame\u001b[0m\u001b[0;34m(\u001b[0m\u001b[0mpredictions\u001b[0m\u001b[0;34m,\u001b[0m \u001b[0mcolumns\u001b[0m\u001b[0;34m=\u001b[0m\u001b[0;34m[\u001b[0m\u001b[0;34m'predictions'\u001b[0m\u001b[0;34m]\u001b[0m\u001b[0;34m)\u001b[0m\u001b[0;34m\u001b[0m\u001b[0;34m\u001b[0m\u001b[0m\n",
      "\u001b[0;32m<ipython-input-9-9b893523817e>\u001b[0m in \u001b[0;36m<listcomp>\u001b[0;34m(.0)\u001b[0m\n\u001b[1;32m      2\u001b[0m \u001b[0mmodel\u001b[0m \u001b[0;34m=\u001b[0m \u001b[0mtf\u001b[0m\u001b[0;34m.\u001b[0m\u001b[0mkeras\u001b[0m\u001b[0;34m.\u001b[0m\u001b[0mmodels\u001b[0m\u001b[0;34m.\u001b[0m\u001b[0mload_model\u001b[0m\u001b[0;34m(\u001b[0m\u001b[0;34m\"./best_model.h5\"\u001b[0m\u001b[0;34m)\u001b[0m\u001b[0;34m\u001b[0m\u001b[0;34m\u001b[0m\u001b[0m\n\u001b[1;32m      3\u001b[0m \u001b[0mpred\u001b[0m \u001b[0;34m=\u001b[0m \u001b[0mmodel\u001b[0m\u001b[0;34m.\u001b[0m\u001b[0mpredict\u001b[0m\u001b[0;34m(\u001b[0m\u001b[0mtest_ds\u001b[0m\u001b[0;34m)\u001b[0m\u001b[0;34m\u001b[0m\u001b[0;34m\u001b[0m\u001b[0m\n\u001b[0;32m----> 4\u001b[0;31m \u001b[0mpredictions\u001b[0m \u001b[0;34m=\u001b[0m \u001b[0;34m[\u001b[0m\u001b[0mclasses_dict\u001b[0m\u001b[0;34m[\u001b[0m\u001b[0mnp\u001b[0m\u001b[0;34m.\u001b[0m\u001b[0margmax\u001b[0m\u001b[0;34m(\u001b[0m\u001b[0mi\u001b[0m\u001b[0;34m)\u001b[0m\u001b[0;34m]\u001b[0m \u001b[0;32mfor\u001b[0m \u001b[0mi\u001b[0m \u001b[0;32min\u001b[0m \u001b[0mpred\u001b[0m\u001b[0;34m]\u001b[0m\u001b[0;34m\u001b[0m\u001b[0;34m\u001b[0m\u001b[0m\n\u001b[0m\u001b[1;32m      5\u001b[0m \u001b[0;34m\u001b[0m\u001b[0m\n\u001b[1;32m      6\u001b[0m \u001b[0mpred_df\u001b[0m \u001b[0;34m=\u001b[0m \u001b[0mpd\u001b[0m\u001b[0;34m.\u001b[0m\u001b[0mDataFrame\u001b[0m\u001b[0;34m(\u001b[0m\u001b[0mpredictions\u001b[0m\u001b[0;34m,\u001b[0m \u001b[0mcolumns\u001b[0m\u001b[0;34m=\u001b[0m\u001b[0;34m[\u001b[0m\u001b[0;34m'predictions'\u001b[0m\u001b[0;34m]\u001b[0m\u001b[0;34m)\u001b[0m\u001b[0;34m\u001b[0m\u001b[0;34m\u001b[0m\u001b[0m\n",
      "\u001b[0;31mKeyError\u001b[0m: 5"
     ]
    }
   ],
   "source": [
    "classes_dict = train_ds.class_indices\n",
    "model = tf.keras.models.load_model(\"./best_model.h5\")\n",
    "pred = model.predict(test_ds)\n",
    "predictions = [classes_dict[np.argmax(i)] for i in pred]\n",
    "\n",
    "pred_df = pd.DataFrame(predictions, columns=['predictions'])\n",
    "pred_df.to_csv('prediction.csv',index=False)"
   ]
  }
 ],
 "metadata": {
  "kernelspec": {
   "display_name": "Python 3",
   "language": "python",
   "name": "python3"
  },
  "language_info": {
   "codemirror_mode": {
    "name": "ipython",
    "version": 3
   },
   "file_extension": ".py",
   "mimetype": "text/x-python",
   "name": "python",
   "nbconvert_exporter": "python",
   "pygments_lexer": "ipython3",
   "version": "3.7.9"
  },
  "papermill": {
   "default_parameters": {},
   "duration": 5974.453547,
   "end_time": "2021-03-13T18:51:26.402961",
   "environment_variables": {},
   "exception": null,
   "input_path": "__notebook__.ipynb",
   "output_path": "__notebook__.ipynb",
   "parameters": {},
   "start_time": "2021-03-13T17:11:51.949414",
   "version": "2.2.2"
  }
 },
 "nbformat": 4,
 "nbformat_minor": 4
}
