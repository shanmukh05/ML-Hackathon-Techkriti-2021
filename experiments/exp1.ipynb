{
 "cells": [
  {
   "cell_type": "code",
   "execution_count": 1,
   "metadata": {
    "_cell_guid": "b1076dfc-b9ad-4769-8c92-a6c4dae69d19",
    "_uuid": "8f2839f25d086af736a60e9eeb907d3b93b6e0e5",
    "execution": {
     "iopub.execute_input": "2021-03-13T15:04:03.426961Z",
     "iopub.status.busy": "2021-03-13T15:04:03.426276Z",
     "iopub.status.idle": "2021-03-13T15:04:07.876870Z",
     "shell.execute_reply": "2021-03-13T15:04:07.876263Z"
    },
    "papermill": {
     "duration": 4.462121,
     "end_time": "2021-03-13T15:04:07.877072",
     "exception": false,
     "start_time": "2021-03-13T15:04:03.414951",
     "status": "completed"
    },
    "tags": []
   },
   "outputs": [],
   "source": [
    "import os\n",
    "import numpy as np\n",
    "import pandas as pd\n",
    "import matplotlib.pyplot as plt\n",
    "import tensorflow as tf\n",
    "import PIL\n",
    "import random\n",
    "from tensorflow.keras.layers import *"
   ]
  },
  {
   "cell_type": "code",
   "execution_count": 2,
   "metadata": {
    "execution": {
     "iopub.execute_input": "2021-03-13T15:04:07.893532Z",
     "iopub.status.busy": "2021-03-13T15:04:07.892900Z",
     "iopub.status.idle": "2021-03-13T15:04:07.896849Z",
     "shell.execute_reply": "2021-03-13T15:04:07.896447Z"
    },
    "papermill": {
     "duration": 0.013504,
     "end_time": "2021-03-13T15:04:07.896961",
     "exception": false,
     "start_time": "2021-03-13T15:04:07.883457",
     "status": "completed"
    },
    "tags": []
   },
   "outputs": [],
   "source": [
    "TRAIN_PATH = \"../input/ml-hackathon/seg_train/seg_train\"\n",
    "VAL_PATH = \"../input/ml-hackathon/seg_test/seg_test\"\n",
    "TEST_PATH = \"../input/ml-hackathon/seg_pred\"\n",
    "BATCH_SIZE = 32\n",
    "HEIGHT,WIDTH = 150,150\n",
    "NUM_CLASSES = 6"
   ]
  },
  {
   "cell_type": "code",
   "execution_count": 3,
   "metadata": {
    "execution": {
     "iopub.execute_input": "2021-03-13T15:04:07.914852Z",
     "iopub.status.busy": "2021-03-13T15:04:07.914260Z",
     "iopub.status.idle": "2021-03-13T15:04:53.304650Z",
     "shell.execute_reply": "2021-03-13T15:04:53.305250Z"
    },
    "papermill": {
     "duration": 45.402679,
     "end_time": "2021-03-13T15:04:53.305441",
     "exception": false,
     "start_time": "2021-03-13T15:04:07.902762",
     "status": "completed"
    },
    "tags": []
   },
   "outputs": [
    {
     "name": "stdout",
     "output_type": "stream",
     "text": [
      "Found 14034 images belonging to 6 classes.\n",
      "Found 3000 images belonging to 6 classes.\n",
      "Found 7301 images belonging to 1 classes.\n"
     ]
    }
   ],
   "source": [
    "train_datagen = tf.keras.preprocessing.image.ImageDataGenerator(\n",
    "    rescale=1./255,\n",
    "    rotation_range=20,\n",
    "    horizontal_flip=True,\n",
    "    width_shift_range=0.2,\n",
    "    height_shift_range=0.2\n",
    "   )\n",
    "\n",
    "train_ds = train_datagen.flow_from_directory(\n",
    "    TRAIN_PATH,\n",
    "    target_size = (HEIGHT,WIDTH),\n",
    "    batch_size = BATCH_SIZE,\n",
    "    class_mode = \"categorical\",\n",
    "    shuffle = True\n",
    ")\n",
    "\n",
    "\n",
    "val_datagen = tf.keras.preprocessing.image.ImageDataGenerator(\n",
    "    rescale=1./255,\n",
    "   )\n",
    "\n",
    "val_ds = val_datagen.flow_from_directory(\n",
    "    VAL_PATH,\n",
    "    target_size = (HEIGHT,WIDTH),\n",
    "    batch_size = BATCH_SIZE,\n",
    "    class_mode = \"categorical\",\n",
    "    shuffle = False\n",
    ")\n",
    "\n",
    "\n",
    "test_datagen = tf.keras.preprocessing.image.ImageDataGenerator(\n",
    "    rescale=1./255)\n",
    "test_ds = test_datagen.flow_from_directory(\n",
    "    TEST_PATH,\n",
    "    target_size = (HEIGHT,WIDTH),\n",
    "    shuffle = False\n",
    ")"
   ]
  },
  {
   "cell_type": "code",
   "execution_count": 4,
   "metadata": {
    "execution": {
     "iopub.execute_input": "2021-03-13T15:04:53.335400Z",
     "iopub.status.busy": "2021-03-13T15:04:53.334631Z",
     "iopub.status.idle": "2021-03-13T15:04:53.337895Z",
     "shell.execute_reply": "2021-03-13T15:04:53.338455Z"
    },
    "papermill": {
     "duration": 0.023114,
     "end_time": "2021-03-13T15:04:53.338637",
     "exception": false,
     "start_time": "2021-03-13T15:04:53.315523",
     "status": "completed"
    },
    "tags": []
   },
   "outputs": [],
   "source": [
    "def create_model():\n",
    "    pretrained = tf.keras.applications.EfficientNetB7(include_top=False, weights='imagenet',input_shape=[HEIGHT,WIDTH, 3])\n",
    "            \n",
    "    x = pretrained.output\n",
    "    x = tf.keras.layers.GlobalAveragePooling2D()(x)\n",
    "    x = tf.keras.layers.Dropout(0.3) (x)\n",
    "    x = tf.keras.layers.Dense(128) (x)\n",
    "    x = tf.keras.layers.LeakyReLU(alpha=0.2) (x)\n",
    "    x = tf.keras.layers.GaussianDropout(0.4) (x)\n",
    "    outputs = tf.keras.layers.Dense(NUM_CLASSES,activation=\"softmax\", dtype='float32')(x)\n",
    "        \n",
    "    model = tf.keras.Model(pretrained.input, outputs)\n",
    "    return model"
   ]
  },
  {
   "cell_type": "code",
   "execution_count": 5,
   "metadata": {
    "execution": {
     "iopub.execute_input": "2021-03-13T15:04:53.366400Z",
     "iopub.status.busy": "2021-03-13T15:04:53.365596Z",
     "iopub.status.idle": "2021-03-13T15:04:53.367646Z",
     "shell.execute_reply": "2021-03-13T15:04:53.367050Z"
    },
    "papermill": {
     "duration": 0.01944,
     "end_time": "2021-03-13T15:04:53.367782",
     "exception": false,
     "start_time": "2021-03-13T15:04:53.348342",
     "status": "completed"
    },
    "tags": []
   },
   "outputs": [],
   "source": [
    "def compile_model(model, lr=0.0001):\n",
    "    \n",
    "    optimizer = tf.keras.optimizers.Adam(lr=lr)\n",
    "    \n",
    "    loss = tf.keras.losses.CategoricalCrossentropy()\n",
    "        \n",
    "    metrics = [\n",
    "       tf.keras.metrics.CategoricalAccuracy(name='categorical_accuracy')\n",
    "    ]\n",
    "\n",
    "    model.compile(optimizer=optimizer, loss=loss, metrics=metrics)\n",
    "\n",
    "    return model"
   ]
  },
  {
   "cell_type": "code",
   "execution_count": 6,
   "metadata": {
    "execution": {
     "iopub.execute_input": "2021-03-13T15:04:53.395855Z",
     "iopub.status.busy": "2021-03-13T15:04:53.395154Z",
     "iopub.status.idle": "2021-03-13T15:04:53.398327Z",
     "shell.execute_reply": "2021-03-13T15:04:53.398865Z"
    },
    "papermill": {
     "duration": 0.021091,
     "end_time": "2021-03-13T15:04:53.399033",
     "exception": false,
     "start_time": "2021-03-13T15:04:53.377942",
     "status": "completed"
    },
    "tags": []
   },
   "outputs": [],
   "source": [
    "def create_callbacks():\n",
    "    \n",
    "    cpk_path = './best_model.h5'\n",
    "    \n",
    "    checkpoint = tf.keras.callbacks.ModelCheckpoint(\n",
    "        filepath=cpk_path,\n",
    "        monitor='val_categorical_accuracy',\n",
    "        mode='max',\n",
    "        save_best_only=True,\n",
    "        verbose=1,\n",
    "    )\n",
    "\n",
    "    reducelr = tf.keras.callbacks.ReduceLROnPlateau(\n",
    "        monitor='val_categorical_accuracy',\n",
    "        mode='max',\n",
    "        factor=0.1,\n",
    "        patience=3,\n",
    "        verbose=0\n",
    "    )\n",
    "\n",
    "    earlystop = tf.keras.callbacks.EarlyStopping(\n",
    "        monitor='val_categorical_accuracy',\n",
    "        mode='max',\n",
    "        patience=10, \n",
    "        verbose=1\n",
    "    )\n",
    "    \n",
    "    callbacks = [checkpoint, reducelr, earlystop]         \n",
    "    \n",
    "    return callbacks"
   ]
  },
  {
   "cell_type": "code",
   "execution_count": 7,
   "metadata": {
    "execution": {
     "iopub.execute_input": "2021-03-13T15:04:53.426265Z",
     "iopub.status.busy": "2021-03-13T15:04:53.425171Z",
     "iopub.status.idle": "2021-03-13T16:18:47.213974Z",
     "shell.execute_reply": "2021-03-13T16:18:47.215388Z"
    },
    "papermill": {
     "duration": 4433.806478,
     "end_time": "2021-03-13T16:18:47.215628",
     "exception": false,
     "start_time": "2021-03-13T15:04:53.409150",
     "status": "completed"
    },
    "tags": []
   },
   "outputs": [
    {
     "name": "stdout",
     "output_type": "stream",
     "text": [
      "Downloading data from https://storage.googleapis.com/keras-applications/efficientnetb7_notop.h5\n",
      "258080768/258076736 [==============================] - 2s 0us/step\n",
      "Epoch 1/15\n",
      "439/439 [==============================] - 329s 675ms/step - loss: 0.8615 - categorical_accuracy: 0.6792 - val_loss: 0.8934 - val_categorical_accuracy: 0.6707\n",
      "\n",
      "Epoch 00001: val_categorical_accuracy improved from -inf to 0.67067, saving model to ./best_model.h5\n",
      "Epoch 2/15\n",
      "439/439 [==============================] - 288s 657ms/step - loss: 0.2959 - categorical_accuracy: 0.8999 - val_loss: 0.2510 - val_categorical_accuracy: 0.9090\n",
      "\n",
      "Epoch 00002: val_categorical_accuracy improved from 0.67067 to 0.90900, saving model to ./best_model.h5\n",
      "Epoch 3/15\n",
      "439/439 [==============================] - 291s 663ms/step - loss: 0.2113 - categorical_accuracy: 0.9270 - val_loss: 0.2366 - val_categorical_accuracy: 0.9147\n",
      "\n",
      "Epoch 00003: val_categorical_accuracy improved from 0.90900 to 0.91467, saving model to ./best_model.h5\n",
      "Epoch 4/15\n",
      "439/439 [==============================] - 291s 662ms/step - loss: 0.1893 - categorical_accuracy: 0.9355 - val_loss: 0.7860 - val_categorical_accuracy: 0.7353\n",
      "\n",
      "Epoch 00004: val_categorical_accuracy did not improve from 0.91467\n",
      "Epoch 5/15\n",
      "439/439 [==============================] - 292s 664ms/step - loss: 0.1503 - categorical_accuracy: 0.9466 - val_loss: 0.3477 - val_categorical_accuracy: 0.8907\n",
      "\n",
      "Epoch 00005: val_categorical_accuracy did not improve from 0.91467\n",
      "Epoch 6/15\n",
      "439/439 [==============================] - 291s 663ms/step - loss: 0.1236 - categorical_accuracy: 0.9564 - val_loss: 0.2596 - val_categorical_accuracy: 0.9167\n",
      "\n",
      "Epoch 00006: val_categorical_accuracy improved from 0.91467 to 0.91667, saving model to ./best_model.h5\n",
      "Epoch 7/15\n",
      "439/439 [==============================] - 293s 667ms/step - loss: 0.1094 - categorical_accuracy: 0.9608 - val_loss: 0.4596 - val_categorical_accuracy: 0.8463\n",
      "\n",
      "Epoch 00007: val_categorical_accuracy did not improve from 0.91667\n",
      "Epoch 8/15\n",
      "439/439 [==============================] - 290s 660ms/step - loss: 0.0974 - categorical_accuracy: 0.9646 - val_loss: 0.6251 - val_categorical_accuracy: 0.8223\n",
      "\n",
      "Epoch 00008: val_categorical_accuracy did not improve from 0.91667\n",
      "Epoch 9/15\n",
      "439/439 [==============================] - 290s 659ms/step - loss: 0.0693 - categorical_accuracy: 0.9742 - val_loss: 0.3895 - val_categorical_accuracy: 0.8933\n",
      "\n",
      "Epoch 00009: val_categorical_accuracy did not improve from 0.91667\n",
      "Epoch 10/15\n",
      "439/439 [==============================] - 291s 662ms/step - loss: 0.0616 - categorical_accuracy: 0.9797 - val_loss: 0.2306 - val_categorical_accuracy: 0.9400\n",
      "\n",
      "Epoch 00010: val_categorical_accuracy improved from 0.91667 to 0.94000, saving model to ./best_model.h5\n",
      "Epoch 11/15\n",
      "439/439 [==============================] - 290s 660ms/step - loss: 0.0434 - categorical_accuracy: 0.9832 - val_loss: 0.2343 - val_categorical_accuracy: 0.9403\n",
      "\n",
      "Epoch 00011: val_categorical_accuracy improved from 0.94000 to 0.94033, saving model to ./best_model.h5\n",
      "Epoch 12/15\n",
      "439/439 [==============================] - 290s 661ms/step - loss: 0.0347 - categorical_accuracy: 0.9884 - val_loss: 0.2423 - val_categorical_accuracy: 0.9397\n",
      "\n",
      "Epoch 00012: val_categorical_accuracy did not improve from 0.94033\n",
      "Epoch 13/15\n",
      "439/439 [==============================] - 290s 660ms/step - loss: 0.0327 - categorical_accuracy: 0.9897 - val_loss: 0.2482 - val_categorical_accuracy: 0.9387\n",
      "\n",
      "Epoch 00013: val_categorical_accuracy did not improve from 0.94033\n",
      "Epoch 14/15\n",
      "439/439 [==============================] - 290s 661ms/step - loss: 0.0298 - categorical_accuracy: 0.9902 - val_loss: 0.2531 - val_categorical_accuracy: 0.9403\n",
      "\n",
      "Epoch 00014: val_categorical_accuracy did not improve from 0.94033\n",
      "Epoch 15/15\n",
      "439/439 [==============================] - 289s 658ms/step - loss: 0.0306 - categorical_accuracy: 0.9896 - val_loss: 0.2524 - val_categorical_accuracy: 0.9413\n",
      "\n",
      "Epoch 00015: val_categorical_accuracy improved from 0.94033 to 0.94133, saving model to ./best_model.h5\n"
     ]
    }
   ],
   "source": [
    "EPOCHS= 15\n",
    "VERBOSE =1\n",
    "\n",
    "tf.keras.backend.clear_session()\n",
    "\n",
    "with tf.device('/device:GPU:0'):\n",
    "    \n",
    "    model = create_model()\n",
    "    model = compile_model(model, lr=0.0001)\n",
    "   \n",
    "    callbacks = create_callbacks()\n",
    "    \n",
    "    history = model.fit(train_ds, \n",
    "                        epochs=EPOCHS,\n",
    "                        callbacks=callbacks,\n",
    "                        validation_data = val_ds,\n",
    "                        verbose=VERBOSE)"
   ]
  },
  {
   "cell_type": "code",
   "execution_count": 8,
   "metadata": {
    "execution": {
     "iopub.execute_input": "2021-03-13T16:18:50.885111Z",
     "iopub.status.busy": "2021-03-13T16:18:50.882222Z",
     "iopub.status.idle": "2021-03-13T16:18:51.140116Z",
     "shell.execute_reply": "2021-03-13T16:18:51.140534Z"
    },
    "papermill": {
     "duration": 2.103519,
     "end_time": "2021-03-13T16:18:51.140690",
     "exception": false,
     "start_time": "2021-03-13T16:18:49.037171",
     "status": "completed"
    },
    "tags": []
   },
   "outputs": [
    {
     "data": {
      "image/png": "[encoded data removed]",
      "text/plain": [
       "<Figure size 576x576 with 2 Axes>"
      ]
     },
     "metadata": {
      "needs_background": "light"
     },
     "output_type": "display_data"
    }
   ],
   "source": [
    "acc = history.history['categorical_accuracy']\n",
    "val_acc = history.history['val_categorical_accuracy']\n",
    "loss = history.history['loss']\n",
    "val_loss = history.history['val_loss']\n",
    "epochs_range = range(len(history.history['val_loss']))\n",
    "plt.figure(figsize=(8, 8))\n",
    "plt.subplot(1, 2, 1)\n",
    "plt.plot(epochs_range, acc, label='Training Categorical Accuracy')\n",
    "plt.plot(epochs_range, val_acc, label='Validation Categorical Accuracy')\n",
    "plt.legend(loc='lower right')\n",
    "plt.title('Training and Validation Categorical Accuracy')\n",
    "plt.subplot(1, 2, 2)\n",
    "plt.plot(epochs_range, loss, label='Training Loss')\n",
    "plt.plot(epochs_range, val_loss, label='Validation Loss')\n",
    "plt.legend(loc='upper right')\n",
    "plt.title('Training and Validation Loss')\n",
    "plt.show()"
   ]
  },
  {
   "cell_type": "code",
   "execution_count": 9,
   "metadata": {
    "execution": {
     "iopub.execute_input": "2021-03-13T16:18:54.639484Z",
     "iopub.status.busy": "2021-03-13T16:18:54.629335Z",
     "iopub.status.idle": "2021-03-13T16:19:52.270591Z",
     "shell.execute_reply": "2021-03-13T16:19:52.269171Z"
    },
    "papermill": {
     "duration": 59.367214,
     "end_time": "2021-03-13T16:19:52.270735",
     "exception": false,
     "start_time": "2021-03-13T16:18:52.903521",
     "status": "completed"
    },
    "tags": []
   },
   "outputs": [],
   "source": [
    "classes_dict = train_ds.class_indices\n",
    "model = tf.keras.models.load_model(\"./best_model.h5\")\n",
    "pred = model.predict(test_ds)\n",
    "predictions = [np.argmax(i) for i in pred]\n",
    "\n",
    "pred_df = pd.DataFrame(predictions, columns=['predictions'])\n",
    "pred_df.to_csv('prediction.csv',index=False)"
   ]
  }
 ],
 "metadata": {
  "kernelspec": {
   "display_name": "Python 3",
   "language": "python",
   "name": "python3"
  },
  "language_info": {
   "codemirror_mode": {
    "name": "ipython",
    "version": 3
   },
   "file_extension": ".py",
   "mimetype": "text/x-python",
   "name": "python",
   "nbconvert_exporter": "python",
   "pygments_lexer": "ipython3",
   "version": "3.7.9"
  },
  "papermill": {
   "default_parameters": {},
   "duration": 4559.915227,
   "end_time": "2021-03-13T16:19:58.798893",
   "environment_variables": {},
   "exception": null,
   "input_path": "__notebook__.ipynb",
   "output_path": "__notebook__.ipynb",
   "parameters": {},
   "start_time": "2021-03-13T15:03:58.883666",
   "version": "2.2.2"
  }
 },
 "nbformat": 4,
 "nbformat_minor": 4
}
